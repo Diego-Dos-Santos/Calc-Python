{
  "nbformat": 4,
  "nbformat_minor": 0,
  "metadata": {
    "colab": {
      "name": "Calculadora.ipynb",
      "provenance": []
    },
    "kernelspec": {
      "name": "python3",
      "display_name": "Python 3"
    }
  },
  "cells": [
    {
      "cell_type": "markdown",
      "metadata": {
        "id": "Wn3sCzttq7d1"
      },
      "source": [
        "**CALCULADORA UTILIZANDO FUNCIONES**"
      ]
    },
    {
      "cell_type": "code",
      "metadata": {
        "id": "w90Io1ufpiYP"
      },
      "source": [
        "def sumar():\n",
        "  x = a + b\n",
        "  print((\"Resultado\"), (x))\n",
        "def restar():\n",
        "  x = a - b \n",
        "  print((\"Resultado\"), (x))\n",
        "def multiplicar():\n",
        "  x = a * b\n",
        "  print((\"Resultado\"), (x))\n",
        "def dividir():\n",
        "  x = a / b\n",
        "  print((\"Resultado\"), (x))\n",
        "\n",
        "while True:\n",
        "  try:\n",
        "    a = int(input(\"Ingresar el primeiro numero: \\n\"))\n",
        "    b = int(input(\"Ingresar el segundo numero: \\n\"))\n",
        "    print((\"que calculo quieres realizar entre\"), (a), (\"y\"),(b), (\"? \\n\"))\n",
        "    op = str(input(\"\"\" #Ofrecemos las opciones de calculo las cuales van a llamar a las funciones\n",
        "        1- Sumar\n",
        "        2- Restar\n",
        "        3- Multiplicar\n",
        "        4- Dividir \\n\"\"\"))\n",
        "\n",
        "    if op == '1':\n",
        "      sumar()\n",
        "      break \n",
        "    elif op == '2':\n",
        "      restar()\n",
        "      break\n",
        "    elif op == '3':\n",
        "      multiplicar()\n",
        "      break \n",
        "    elif op == '4':\n",
        "      dividir()\n",
        "      break \n",
        "    else:\n",
        "      print(\"elija una opción o intente otra vez\")\n",
        "  except:\n",
        "    print(\"Error\")\n",
        "    op = '?'\n",
        "\n",
        "  finally:\n",
        "    print(\"Gracias por utilizar nuestra calculadora\")"
      ],
      "execution_count": null,
      "outputs": []
    }
  ]
}